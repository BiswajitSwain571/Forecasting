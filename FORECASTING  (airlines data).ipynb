{
 "cells": [
  {
   "cell_type": "markdown",
   "id": "76468341",
   "metadata": {},
   "source": [
    "### Dataset - Airlines Data"
   ]
  },
  {
   "cell_type": "markdown",
   "id": "080cba7d",
   "metadata": {},
   "source": [
    "### Objective:-We want predict Passenger ticket sales"
   ]
  },
  {
   "cell_type": "markdown",
   "id": "0aa98788",
   "metadata": {},
   "source": [
    "### Importing the important libraries"
   ]
  },
  {
   "cell_type": "code",
   "execution_count": 1,
   "id": "2eb9c419",
   "metadata": {},
   "outputs": [],
   "source": [
    "import pandas as pd \n",
    "import numpy as np \n",
    "import seaborn as sns \n",
    "import matplotlib.pyplot as plt\n",
    "from pandas.plotting import lag_plot\n",
    "from sklearn.model_selection import train_test_split\n",
    "import warnings\n",
    "warnings.filterwarnings(\"ignore\")\n",
    "import itertools\n",
    "from statsmodels.tsa.arima_model import ARIMA\n",
    "from statsmodels.tsa.seasonal import seasonal_decompose\n",
    "from statsmodels.tsa.holtwinters import SimpleExpSmoothing\n",
    "from statsmodels.tsa.holtwinters import Holt\n",
    "from statsmodels.tsa.holtwinters import ExponentialSmoothing"
   ]
  },
  {
   "cell_type": "markdown",
   "id": "55e443ec",
   "metadata": {},
   "source": [
    "### Load the dataset and understand it"
   ]
  },
  {
   "cell_type": "code",
   "execution_count": 2,
   "id": "14053fab",
   "metadata": {},
   "outputs": [
    {
     "data": {
      "text/html": [
       "<div>\n",
       "<style scoped>\n",
       "    .dataframe tbody tr th:only-of-type {\n",
       "        vertical-align: middle;\n",
       "    }\n",
       "\n",
       "    .dataframe tbody tr th {\n",
       "        vertical-align: top;\n",
       "    }\n",
       "\n",
       "    .dataframe thead th {\n",
       "        text-align: right;\n",
       "    }\n",
       "</style>\n",
       "<table border=\"1\" class=\"dataframe\">\n",
       "  <thead>\n",
       "    <tr style=\"text-align: right;\">\n",
       "      <th></th>\n",
       "      <th>Month</th>\n",
       "      <th>Passengers</th>\n",
       "    </tr>\n",
       "  </thead>\n",
       "  <tbody>\n",
       "    <tr>\n",
       "      <th>0</th>\n",
       "      <td>1995-01-01</td>\n",
       "      <td>112</td>\n",
       "    </tr>\n",
       "    <tr>\n",
       "      <th>1</th>\n",
       "      <td>1995-02-01</td>\n",
       "      <td>118</td>\n",
       "    </tr>\n",
       "    <tr>\n",
       "      <th>2</th>\n",
       "      <td>1995-03-01</td>\n",
       "      <td>132</td>\n",
       "    </tr>\n",
       "    <tr>\n",
       "      <th>3</th>\n",
       "      <td>1995-04-01</td>\n",
       "      <td>129</td>\n",
       "    </tr>\n",
       "    <tr>\n",
       "      <th>4</th>\n",
       "      <td>1995-05-01</td>\n",
       "      <td>121</td>\n",
       "    </tr>\n",
       "    <tr>\n",
       "      <th>...</th>\n",
       "      <td>...</td>\n",
       "      <td>...</td>\n",
       "    </tr>\n",
       "    <tr>\n",
       "      <th>91</th>\n",
       "      <td>2002-08-01</td>\n",
       "      <td>405</td>\n",
       "    </tr>\n",
       "    <tr>\n",
       "      <th>92</th>\n",
       "      <td>2002-09-01</td>\n",
       "      <td>355</td>\n",
       "    </tr>\n",
       "    <tr>\n",
       "      <th>93</th>\n",
       "      <td>2002-10-01</td>\n",
       "      <td>306</td>\n",
       "    </tr>\n",
       "    <tr>\n",
       "      <th>94</th>\n",
       "      <td>2002-11-01</td>\n",
       "      <td>271</td>\n",
       "    </tr>\n",
       "    <tr>\n",
       "      <th>95</th>\n",
       "      <td>2002-12-01</td>\n",
       "      <td>306</td>\n",
       "    </tr>\n",
       "  </tbody>\n",
       "</table>\n",
       "<p>96 rows × 2 columns</p>\n",
       "</div>"
      ],
      "text/plain": [
       "        Month  Passengers\n",
       "0  1995-01-01         112\n",
       "1  1995-02-01         118\n",
       "2  1995-03-01         132\n",
       "3  1995-04-01         129\n",
       "4  1995-05-01         121\n",
       "..        ...         ...\n",
       "91 2002-08-01         405\n",
       "92 2002-09-01         355\n",
       "93 2002-10-01         306\n",
       "94 2002-11-01         271\n",
       "95 2002-12-01         306\n",
       "\n",
       "[96 rows x 2 columns]"
      ]
     },
     "execution_count": 2,
     "metadata": {},
     "output_type": "execute_result"
    }
   ],
   "source": [
    "data=pd.read_excel('E:\\\\Study\\\\ASSIGNMENTS\\\\FORECASTING\\\\Airlines+Data.xlsx')\n",
    "data"
   ]
  },
  {
   "cell_type": "markdown",
   "id": "5b395854",
   "metadata": {},
   "source": [
    "### Performing the basic EDA analysis on the data"
   ]
  },
  {
   "cell_type": "code",
   "execution_count": 3,
   "id": "e90d8806",
   "metadata": {},
   "outputs": [
    {
     "name": "stdout",
     "output_type": "stream",
     "text": [
      "<class 'pandas.core.frame.DataFrame'>\n",
      "RangeIndex: 96 entries, 0 to 95\n",
      "Data columns (total 2 columns):\n",
      " #   Column      Non-Null Count  Dtype         \n",
      "---  ------      --------------  -----         \n",
      " 0   Month       96 non-null     datetime64[ns]\n",
      " 1   Passengers  96 non-null     int64         \n",
      "dtypes: datetime64[ns](1), int64(1)\n",
      "memory usage: 1.6 KB\n"
     ]
    }
   ],
   "source": [
    "data.info()"
   ]
  },
  {
   "cell_type": "code",
   "execution_count": 4,
   "id": "61bf8f18",
   "metadata": {},
   "outputs": [
    {
     "data": {
      "text/html": [
       "<div>\n",
       "<style scoped>\n",
       "    .dataframe tbody tr th:only-of-type {\n",
       "        vertical-align: middle;\n",
       "    }\n",
       "\n",
       "    .dataframe tbody tr th {\n",
       "        vertical-align: top;\n",
       "    }\n",
       "\n",
       "    .dataframe thead th {\n",
       "        text-align: right;\n",
       "    }\n",
       "</style>\n",
       "<table border=\"1\" class=\"dataframe\">\n",
       "  <thead>\n",
       "    <tr style=\"text-align: right;\">\n",
       "      <th></th>\n",
       "      <th>Passengers</th>\n",
       "    </tr>\n",
       "  </thead>\n",
       "  <tbody>\n",
       "    <tr>\n",
       "      <th>count</th>\n",
       "      <td>96.000000</td>\n",
       "    </tr>\n",
       "    <tr>\n",
       "      <th>mean</th>\n",
       "      <td>213.708333</td>\n",
       "    </tr>\n",
       "    <tr>\n",
       "      <th>std</th>\n",
       "      <td>71.918216</td>\n",
       "    </tr>\n",
       "    <tr>\n",
       "      <th>min</th>\n",
       "      <td>104.000000</td>\n",
       "    </tr>\n",
       "    <tr>\n",
       "      <th>25%</th>\n",
       "      <td>156.000000</td>\n",
       "    </tr>\n",
       "    <tr>\n",
       "      <th>50%</th>\n",
       "      <td>200.000000</td>\n",
       "    </tr>\n",
       "    <tr>\n",
       "      <th>75%</th>\n",
       "      <td>264.750000</td>\n",
       "    </tr>\n",
       "    <tr>\n",
       "      <th>max</th>\n",
       "      <td>413.000000</td>\n",
       "    </tr>\n",
       "  </tbody>\n",
       "</table>\n",
       "</div>"
      ],
      "text/plain": [
       "       Passengers\n",
       "count   96.000000\n",
       "mean   213.708333\n",
       "std     71.918216\n",
       "min    104.000000\n",
       "25%    156.000000\n",
       "50%    200.000000\n",
       "75%    264.750000\n",
       "max    413.000000"
      ]
     },
     "execution_count": 4,
     "metadata": {},
     "output_type": "execute_result"
    }
   ],
   "source": [
    "data.describe()"
   ]
  },
  {
   "cell_type": "code",
   "execution_count": 5,
   "id": "1e4112ae",
   "metadata": {},
   "outputs": [
    {
     "data": {
      "text/plain": [
       "Month         0\n",
       "Passengers    0\n",
       "dtype: int64"
      ]
     },
     "execution_count": 5,
     "metadata": {},
     "output_type": "execute_result"
    }
   ],
   "source": [
    "data.isna().sum()"
   ]
  },
  {
   "cell_type": "markdown",
   "id": "61260326",
   "metadata": {},
   "source": [
    "### performing the basic visualization of the forecasting"
   ]
  },
  {
   "cell_type": "code",
   "execution_count": 7,
   "id": "aa5e47de",
   "metadata": {},
   "outputs": [],
   "source": [
    "data_vis=pd.read_excel('E:\\\\Study\\\\ASSIGNMENTS\\\\FORECASTING\\\\Airlines+Data.xlsx',header=0,index_col=0,parse_dates=True,squeeze=True)"
   ]
  },
  {
   "cell_type": "code",
   "execution_count": 8,
   "id": "d59a867c",
   "metadata": {},
   "outputs": [
    {
     "data": {
      "text/plain": [
       "<AxesSubplot:xlabel='Month'>"
      ]
     },
     "execution_count": 8,
     "metadata": {},
     "output_type": "execute_result"
    },
    {
     "data": {
      "image/png": "[encoded data removed]",
      "text/plain": [
       "<Figure size 432x288 with 1 Axes>"
      ]
     },
     "metadata": {
      "needs_background": "light"
     },
     "output_type": "display_data"
    }
   ],
   "source": [
    "data_vis.plot()"
   ]
  },
  {
   "cell_type": "code",
   "execution_count": 9,
   "id": "1a7e77b4",
   "metadata": {},
   "outputs": [
    {
     "data": {
      "text/plain": [
       "(array([13., 14., 19.,  9., 14., 12.,  9.,  1.,  3.,  2.]),\n",
       " array([104. , 134.9, 165.8, 196.7, 227.6, 258.5, 289.4, 320.3, 351.2,\n",
       "        382.1, 413. ]),\n",
       " <BarContainer object of 10 artists>)"
      ]
     },
     "execution_count": 9,
     "metadata": {},
     "output_type": "execute_result"
    },
    {
     "data": {
      "image/png": "[encoded data removed]",
      "text/plain": [
       "<Figure size 432x288 with 1 Axes>"
      ]
     },
     "metadata": {
      "needs_background": "light"
     },
     "output_type": "display_data"
    }
   ],
   "source": [
    "\n",
    "plt.hist(data_vis)"
   ]
  },
  {
   "cell_type": "code",
   "execution_count": 10,
   "id": "25317472",
   "metadata": {},
   "outputs": [
    {
     "data": {
      "text/plain": [
       "<AxesSubplot:ylabel='Density'>"
      ]
     },
     "execution_count": 10,
     "metadata": {},
     "output_type": "execute_result"
    },
    {
     "data": {
      "image/png": "[encoded data removed]",
      "text/plain": [
       "<Figure size 432x288 with 1 Axes>"
      ]
     },
     "metadata": {
      "needs_background": "light"
     },
     "output_type": "display_data"
    }
   ],
   "source": [
    "\n",
    "data_vis.plot(kind='kde')"
   ]
  },
  {
   "cell_type": "code",
   "execution_count": 11,
   "id": "95762d5e",
   "metadata": {},
   "outputs": [
    {
     "data": {
      "image/png": "[encoded data removed]",
      "text/plain": [
       "<Figure size 432x288 with 1 Axes>"
      ]
     },
     "metadata": {
      "needs_background": "light"
     },
     "output_type": "display_data"
    }
   ],
   "source": [
    "group=data_vis.groupby(pd.Grouper(freq='A'))\n",
    "years=pd.DataFrame()\n",
    "for i,j in group:\n",
    "    years[i.year]=j.values\n",
    "years.boxplot()\n",
    "plt.show()"
   ]
  },
  {
   "cell_type": "code",
   "execution_count": 12,
   "id": "48a0dff3",
   "metadata": {},
   "outputs": [
    {
     "data": {
      "text/plain": [
       "<AxesSubplot:xlabel='y(t)', ylabel='y(t + 1)'>"
      ]
     },
     "execution_count": 12,
     "metadata": {},
     "output_type": "execute_result"
    },
    {
     "data": {
      "image/png": "[encoded data removed]",
      "text/plain": [
       "<Figure size 432x288 with 1 Axes>"
      ]
     },
     "metadata": {
      "needs_background": "light"
     },
     "output_type": "display_data"
    }
   ],
   "source": [
    "lag_plot(data_vis)"
   ]
  },
  {
   "cell_type": "markdown",
   "id": "63e33daf",
   "metadata": {},
   "source": [
    "### performing the data driven methods on the dataset"
   ]
  },
  {
   "cell_type": "code",
   "execution_count": 13,
   "id": "19c0422e",
   "metadata": {},
   "outputs": [],
   "source": [
    "\n",
    "train=data.head(80)# spliting the data into train and test\n",
    "test=data.tail(16)"
   ]
  },
  {
   "cell_type": "markdown",
   "id": "7f991f5e",
   "metadata": {},
   "source": [
    "### moving average and time decomposition plot"
   ]
  },
  {
   "cell_type": "code",
   "execution_count": 14,
   "id": "efb9a2cf",
   "metadata": {},
   "outputs": [
    {
     "data": {
      "text/plain": [
       "<matplotlib.legend.Legend at 0x2696676b2e0>"
      ]
     },
     "execution_count": 14,
     "metadata": {},
     "output_type": "execute_result"
    },
    {
     "data": {
      "image/png": "[encoded data removed]",
      "text/plain": [
       "<Figure size 864x288 with 1 Axes>"
      ]
     },
     "metadata": {
      "needs_background": "light"
     },
     "output_type": "display_data"
    }
   ],
   "source": [
    "plt.figure(figsize=(12,4))\n",
    "data.Passengers.plot(label='org')\n",
    "for i in range(2,18,4):\n",
    "    data['Passengers'].rolling(i).mean().plot(label=(str(i)))\n",
    "plt.legend(loc='best')"
   ]
  },
  {
   "cell_type": "code",
   "execution_count": 15,
   "id": "03fec75c",
   "metadata": {},
   "outputs": [
    {
     "data": {
      "image/png": "[encoded data removed]",
      "text/plain": [
       "<Figure size 432x288 with 4 Axes>"
      ]
     },
     "metadata": {
      "needs_background": "light"
     },
     "output_type": "display_data"
    }
   ],
   "source": [
    "time_plot=seasonal_decompose(data.Passengers,freq=2)\n",
    "time_plot.plot()\n",
    "plt.show()"
   ]
  },
  {
   "cell_type": "markdown",
   "id": "fb1dece2",
   "metadata": {},
   "source": [
    "### creating my metric MAPE inorder to find the model performance"
   ]
  },
  {
   "cell_type": "code",
   "execution_count": 16,
   "id": "9ecb1b88",
   "metadata": {},
   "outputs": [],
   "source": [
    "def Mape(pred,org):\n",
    "    temp=np.abs((pred-org)/org)*100\n",
    "    return np.mean(temp)"
   ]
  },
  {
   "cell_type": "markdown",
   "id": "54a6f056",
   "metadata": {},
   "source": [
    "### developing the model of simple exponential"
   ]
  },
  {
   "cell_type": "code",
   "execution_count": 17,
   "id": "df583fd6",
   "metadata": {},
   "outputs": [],
   "source": [
    "train['Passengers']=train['Passengers'].astype('double')\n",
    "sem_model=SimpleExpSmoothing(train['Passengers']).fit(smoothing_level=0.2)"
   ]
  },
  {
   "cell_type": "code",
   "execution_count": 18,
   "id": "79f93e92",
   "metadata": {},
   "outputs": [
    {
     "data": {
      "text/plain": [
       "80    297.434175\n",
       "81    297.434175\n",
       "82    297.434175\n",
       "83    297.434175\n",
       "84    297.434175\n",
       "85    297.434175\n",
       "86    297.434175\n",
       "87    297.434175\n",
       "88    297.434175\n",
       "89    297.434175\n",
       "90    297.434175\n",
       "91    297.434175\n",
       "92    297.434175\n",
       "93    297.434175\n",
       "94    297.434175\n",
       "95    297.434175\n",
       "dtype: float64"
      ]
     },
     "execution_count": 18,
     "metadata": {},
     "output_type": "execute_result"
    }
   ],
   "source": [
    "pred_sem=sem_model.predict(start=test.index[0],end=test.index[-1])\n",
    "pred_sem"
   ]
  },
  {
   "cell_type": "code",
   "execution_count": 19,
   "id": "10ccabc2",
   "metadata": {},
   "outputs": [
    {
     "data": {
      "text/plain": [
       "11.375850554268276"
      ]
     },
     "execution_count": 19,
     "metadata": {},
     "output_type": "execute_result"
    }
   ],
   "source": [
    "sem_mape=Mape(pred_sem,test.Passengers)\n",
    "sem_mape"
   ]
  },
  {
   "cell_type": "markdown",
   "id": "6031373c",
   "metadata": {},
   "source": [
    "### developing the holt method"
   ]
  },
  {
   "cell_type": "code",
   "execution_count": 20,
   "id": "a82bdc47",
   "metadata": {},
   "outputs": [],
   "source": [
    "holt_method=Holt(train['Passengers']).fit(smoothing_level=0.8,smoothing_slope=0.2)"
   ]
  },
  {
   "cell_type": "code",
   "execution_count": 21,
   "id": "e96641d9",
   "metadata": {},
   "outputs": [
    {
     "data": {
      "text/plain": [
       "80    366.386458\n",
       "81    380.542978\n",
       "82    394.699497\n",
       "83    408.856016\n",
       "84    423.012535\n",
       "85    437.169055\n",
       "86    451.325574\n",
       "87    465.482093\n",
       "88    479.638612\n",
       "89    493.795132\n",
       "90    507.951651\n",
       "91    522.108170\n",
       "92    536.264689\n",
       "93    550.421208\n",
       "94    564.577728\n",
       "95    578.734247\n",
       "dtype: float64"
      ]
     },
     "execution_count": 21,
     "metadata": {},
     "output_type": "execute_result"
    }
   ],
   "source": [
    "\n",
    "holt_pred=holt_method.predict(start=test.index[0],end=test.index[-1])\n",
    "holt_pred"
   ]
  },
  {
   "cell_type": "code",
   "execution_count": 22,
   "id": "8153a28f",
   "metadata": {},
   "outputs": [
    {
     "data": {
      "text/plain": [
       "51.9344398436302"
      ]
     },
     "execution_count": 22,
     "metadata": {},
     "output_type": "execute_result"
    }
   ],
   "source": [
    "holt_mape=Mape(holt_pred,test.Passengers)\n",
    "holt_mape"
   ]
  },
  {
   "cell_type": "markdown",
   "id": "fedc1f3a",
   "metadata": {},
   "source": [
    "### holt winter exponential smoothing with additive seasonality and additive trend"
   ]
  },
  {
   "cell_type": "code",
   "execution_count": 23,
   "id": "106b97a2",
   "metadata": {},
   "outputs": [],
   "source": [
    "holt_win_model = ExponentialSmoothing(train['Passengers'],seasonal=\"add\",trend=\"add\",seasonal_periods=12).fit()"
   ]
  },
  {
   "cell_type": "code",
   "execution_count": 24,
   "id": "53e74a85",
   "metadata": {},
   "outputs": [
    {
     "data": {
      "text/plain": [
       "80    325.215513\n",
       "81    302.215423\n",
       "82    281.215388\n",
       "83    302.715346\n",
       "84    306.813522\n",
       "85    307.670810\n",
       "86    334.956643\n",
       "87    328.813924\n",
       "88    328.099637\n",
       "89    352.099669\n",
       "90    377.099577\n",
       "91    376.242380\n",
       "92    352.987389\n",
       "93    329.987299\n",
       "94    308.987264\n",
       "95    330.487222\n",
       "dtype: float64"
      ]
     },
     "execution_count": 24,
     "metadata": {},
     "output_type": "execute_result"
    }
   ],
   "source": [
    "holt_win_model_pred=holt_win_model.predict(start=test.index[0],end=test.index[-1])\n",
    "holt_win_model_pred"
   ]
  },
  {
   "cell_type": "code",
   "execution_count": 25,
   "id": "ad310515",
   "metadata": {},
   "outputs": [
    {
     "data": {
      "text/plain": [
       "7.947065050023661"
      ]
     },
     "execution_count": 25,
     "metadata": {},
     "output_type": "execute_result"
    }
   ],
   "source": [
    "holt_win_model_mape=Mape(holt_win_model_pred,test['Passengers'])\n",
    "holt_win_model_mape"
   ]
  },
  {
   "cell_type": "markdown",
   "id": "dfd21ea2",
   "metadata": {},
   "source": [
    "### Holts winter exponential smoothing with multiplicative seasonality and additive trend"
   ]
  },
  {
   "cell_type": "code",
   "execution_count": 26,
   "id": "ec1920c7",
   "metadata": {},
   "outputs": [],
   "source": [
    "holt_win_model2 = ExponentialSmoothing(train['Passengers'],seasonal=\"mul\",trend=\"add\",seasonal_periods=12).fit()"
   ]
  },
  {
   "cell_type": "code",
   "execution_count": 27,
   "id": "eb3da69d",
   "metadata": {},
   "outputs": [
    {
     "data": {
      "text/plain": [
       "80    310.167468\n",
       "81    273.378279\n",
       "82    239.338290\n",
       "83    270.781932\n",
       "84    276.720500\n",
       "85    274.058000\n",
       "86    317.641288\n",
       "87    307.796417\n",
       "88    306.485055\n",
       "89    343.879735\n",
       "90    384.064928\n",
       "91    379.426879\n",
       "92    336.660358\n",
       "93    296.563795\n",
       "94    259.494382\n",
       "95    293.427155\n",
       "dtype: float64"
      ]
     },
     "execution_count": 27,
     "metadata": {},
     "output_type": "execute_result"
    }
   ],
   "source": [
    "holt_win_model2_pred=holt_win_model2.predict(start=test.index[0],end=test.index[-1])\n",
    "holt_win_model2_pred"
   ]
  },
  {
   "cell_type": "code",
   "execution_count": null,
   "id": "f4b0615d",
   "metadata": {},
   "outputs": [],
   "source": [
    "holt_win_model2_mape=Mape(holt_win_model2_pred,test['Passengers'])\n",
    "holt_win_model2_mape"
   ]
  },
  {
   "cell_type": "markdown",
   "id": "3e3adbba",
   "metadata": {},
   "source": [
    "### from the above model we are using the holts winter exponential smoothing with multiplicative seasonality and additive trend because it has given the lowest value of the Mape and applying on the entire data set"
   ]
  },
  {
   "cell_type": "code",
   "execution_count": null,
   "id": "7b40c187",
   "metadata": {},
   "outputs": [],
   "source": [
    "data['Passengers']=data['Passengers'].astype('double')"
   ]
  },
  {
   "cell_type": "code",
   "execution_count": null,
   "id": "e0758b31",
   "metadata": {},
   "outputs": [],
   "source": [
    "model=ExponentialSmoothing(data['Passengers'],seasonal=\"mul\",trend=\"add\",seasonal_periods=12).fit()"
   ]
  },
  {
   "cell_type": "code",
   "execution_count": null,
   "id": "1b41ba6f",
   "metadata": {},
   "outputs": [],
   "source": [
    "model.forecast(5)"
   ]
  },
  {
   "cell_type": "code",
   "execution_count": null,
   "id": "8a9d5dc6",
   "metadata": {},
   "outputs": [],
   "source": []
  },
  {
   "cell_type": "code",
   "execution_count": null,
   "id": "5968b085",
   "metadata": {},
   "outputs": [],
   "source": []
  },
  {
   "cell_type": "code",
   "execution_count": null,
   "id": "405e94cd",
   "metadata": {},
   "outputs": [],
   "source": []
  }
 ],
 "metadata": {
  "kernelspec": {
   "display_name": "Python 3",
   "language": "python",
   "name": "python3"
  },
  "language_info": {
   "codemirror_mode": {
    "name": "ipython",
    "version": 3
   },
   "file_extension": ".py",
   "mimetype": "text/x-python",
   "name": "python",
   "nbconvert_exporter": "python",
   "pygments_lexer": "ipython3",
   "version": "3.8.5"
  }
 },
 "nbformat": 4,
 "nbformat_minor": 5
}
